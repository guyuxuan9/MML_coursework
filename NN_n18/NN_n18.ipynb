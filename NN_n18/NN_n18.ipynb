{
 "cells": [
  {
   "cell_type": "code",
   "execution_count": 2,
   "metadata": {},
   "outputs": [],
   "source": [
    "import torch\n",
    "import torch.nn as nn\n",
    "import torch.optim as optim\n",
    "from torch.utils.data import DataLoader, TensorDataset\n",
    "from sklearn.model_selection import train_test_split\n",
    "from sklearn.metrics import accuracy_score  # Import accuracy_score from sklearn\n",
    "import matplotlib.pyplot as plt  # Import matplotlib for plotting\n",
    "import numpy as np\n",
    "from tqdm import trange  # Import trange for progress bar during training\n",
    "from sklearn.preprocessing import StandardScaler, MinMaxScaler  # For scaling\n"
   ]
  },
  {
   "cell_type": "code",
   "execution_count": 19,
   "metadata": {},
   "outputs": [],
   "source": [
    "X = np.load('kryptonite-18-X.npy')\n",
    "y = np.load('kryptonite-18-y.npy')"
   ]
  },
  {
   "cell_type": "code",
   "execution_count": 20,
   "metadata": {},
   "outputs": [
    {
     "name": "stdout",
     "output_type": "stream",
     "text": [
      "Using device: cuda\n"
     ]
    },
    {
     "name": "stderr",
     "output_type": "stream",
     "text": [
      "  2%|▏         | 1/50 [00:01<01:31,  1.86s/it]"
     ]
    },
    {
     "name": "stdout",
     "output_type": "stream",
     "text": [
      "New best model saved with test loss: 0.6934\n",
      "Epoch [1/50], Train Loss: 0.6937, Train Accuracy: 49.87%, Test Loss: 0.6934, Test Accuracy: 49.54%\n"
     ]
    },
    {
     "name": "stderr",
     "output_type": "stream",
     "text": [
      "  4%|▍         | 2/50 [00:03<01:28,  1.85s/it]"
     ]
    },
    {
     "name": "stdout",
     "output_type": "stream",
     "text": [
      "New best model saved with test loss: 0.6932\n"
     ]
    },
    {
     "name": "stderr",
     "output_type": "stream",
     "text": [
      "  6%|▌         | 3/50 [00:05<01:26,  1.85s/it]"
     ]
    },
    {
     "name": "stdout",
     "output_type": "stream",
     "text": [
      "New best model saved with test loss: 0.6932\n"
     ]
    },
    {
     "name": "stderr",
     "output_type": "stream",
     "text": [
      " 22%|██▏       | 11/50 [00:20<01:15,  1.93s/it]"
     ]
    },
    {
     "name": "stdout",
     "output_type": "stream",
     "text": [
      "Epoch [11/50], Train Loss: 0.6924, Train Accuracy: 51.43%, Test Loss: 0.6936, Test Accuracy: 49.40%\n"
     ]
    },
    {
     "name": "stderr",
     "output_type": "stream",
     "text": [
      " 26%|██▌       | 13/50 [00:24<01:10,  1.91s/it]"
     ]
    },
    {
     "name": "stdout",
     "output_type": "stream",
     "text": [
      "New best model saved with test loss: 0.6291\n"
     ]
    },
    {
     "name": "stderr",
     "output_type": "stream",
     "text": [
      " 28%|██▊       | 14/50 [00:26<01:08,  1.89s/it]"
     ]
    },
    {
     "name": "stdout",
     "output_type": "stream",
     "text": [
      "New best model saved with test loss: 0.4899\n"
     ]
    },
    {
     "name": "stderr",
     "output_type": "stream",
     "text": [
      " 30%|███       | 15/50 [00:28<01:05,  1.88s/it]"
     ]
    },
    {
     "name": "stdout",
     "output_type": "stream",
     "text": [
      "New best model saved with test loss: 0.3922\n"
     ]
    },
    {
     "name": "stderr",
     "output_type": "stream",
     "text": [
      " 32%|███▏      | 16/50 [00:30<01:03,  1.87s/it]"
     ]
    },
    {
     "name": "stdout",
     "output_type": "stream",
     "text": [
      "New best model saved with test loss: 0.3569\n"
     ]
    },
    {
     "name": "stderr",
     "output_type": "stream",
     "text": [
      " 34%|███▍      | 17/50 [00:31<01:01,  1.86s/it]"
     ]
    },
    {
     "name": "stdout",
     "output_type": "stream",
     "text": [
      "New best model saved with test loss: 0.3456\n"
     ]
    },
    {
     "name": "stderr",
     "output_type": "stream",
     "text": [
      " 36%|███▌      | 18/50 [00:33<00:59,  1.86s/it]"
     ]
    },
    {
     "name": "stdout",
     "output_type": "stream",
     "text": [
      "New best model saved with test loss: 0.3288\n"
     ]
    },
    {
     "name": "stderr",
     "output_type": "stream",
     "text": [
      " 38%|███▊      | 19/50 [00:35<00:57,  1.86s/it]"
     ]
    },
    {
     "name": "stdout",
     "output_type": "stream",
     "text": [
      "New best model saved with test loss: 0.3265\n"
     ]
    },
    {
     "name": "stderr",
     "output_type": "stream",
     "text": [
      " 42%|████▏     | 21/50 [00:39<00:53,  1.85s/it]"
     ]
    },
    {
     "name": "stdout",
     "output_type": "stream",
     "text": [
      "Epoch [21/50], Train Loss: 0.3197, Train Accuracy: 87.77%, Test Loss: 0.3267, Test Accuracy: 87.32%\n"
     ]
    },
    {
     "name": "stderr",
     "output_type": "stream",
     "text": [
      " 44%|████▍     | 22/50 [00:41<00:51,  1.85s/it]"
     ]
    },
    {
     "name": "stdout",
     "output_type": "stream",
     "text": [
      "New best model saved with test loss: 0.3114\n"
     ]
    },
    {
     "name": "stderr",
     "output_type": "stream",
     "text": [
      " 56%|█████▌    | 28/50 [00:52<00:41,  1.88s/it]"
     ]
    },
    {
     "name": "stdout",
     "output_type": "stream",
     "text": [
      "New best model saved with test loss: 0.3108\n"
     ]
    },
    {
     "name": "stderr",
     "output_type": "stream",
     "text": [
      " 58%|█████▊    | 29/50 [00:54<00:39,  1.87s/it]"
     ]
    },
    {
     "name": "stdout",
     "output_type": "stream",
     "text": [
      "New best model saved with test loss: 0.3066\n"
     ]
    },
    {
     "name": "stderr",
     "output_type": "stream",
     "text": [
      " 62%|██████▏   | 31/50 [00:57<00:35,  1.87s/it]"
     ]
    },
    {
     "name": "stdout",
     "output_type": "stream",
     "text": [
      "Epoch [31/50], Train Loss: 0.2950, Train Accuracy: 88.75%, Test Loss: 0.3068, Test Accuracy: 88.68%\n"
     ]
    },
    {
     "name": "stderr",
     "output_type": "stream",
     "text": [
      " 66%|██████▌   | 33/50 [01:01<00:31,  1.87s/it]"
     ]
    },
    {
     "name": "stdout",
     "output_type": "stream",
     "text": [
      "New best model saved with test loss: 0.2983\n"
     ]
    },
    {
     "name": "stderr",
     "output_type": "stream",
     "text": [
      " 72%|███████▏  | 36/50 [01:07<00:26,  1.86s/it]"
     ]
    },
    {
     "name": "stdout",
     "output_type": "stream",
     "text": [
      "New best model saved with test loss: 0.2819\n"
     ]
    },
    {
     "name": "stderr",
     "output_type": "stream",
     "text": [
      " 74%|███████▍  | 37/50 [01:09<00:24,  1.86s/it]"
     ]
    },
    {
     "name": "stdout",
     "output_type": "stream",
     "text": [
      "New best model saved with test loss: 0.2783\n"
     ]
    },
    {
     "name": "stderr",
     "output_type": "stream",
     "text": [
      " 76%|███████▌  | 38/50 [01:10<00:22,  1.86s/it]"
     ]
    },
    {
     "name": "stdout",
     "output_type": "stream",
     "text": [
      "New best model saved with test loss: 0.2733\n"
     ]
    },
    {
     "name": "stderr",
     "output_type": "stream",
     "text": [
      " 80%|████████  | 40/50 [01:14<00:18,  1.86s/it]"
     ]
    },
    {
     "name": "stdout",
     "output_type": "stream",
     "text": [
      "New best model saved with test loss: 0.2586\n"
     ]
    },
    {
     "name": "stderr",
     "output_type": "stream",
     "text": [
      " 82%|████████▏ | 41/50 [01:16<00:16,  1.87s/it]"
     ]
    },
    {
     "name": "stdout",
     "output_type": "stream",
     "text": [
      "Epoch [41/50], Train Loss: 0.2462, Train Accuracy: 91.53%, Test Loss: 0.2716, Test Accuracy: 90.68%\n"
     ]
    },
    {
     "name": "stderr",
     "output_type": "stream",
     "text": [
      " 88%|████████▊ | 44/50 [01:22<00:11,  1.89s/it]"
     ]
    },
    {
     "name": "stdout",
     "output_type": "stream",
     "text": [
      "New best model saved with test loss: 0.2571\n"
     ]
    },
    {
     "name": "stderr",
     "output_type": "stream",
     "text": [
      " 90%|█████████ | 45/50 [01:24<00:09,  1.88s/it]"
     ]
    },
    {
     "name": "stdout",
     "output_type": "stream",
     "text": [
      "New best model saved with test loss: 0.2529\n"
     ]
    },
    {
     "name": "stderr",
     "output_type": "stream",
     "text": [
      " 92%|█████████▏| 46/50 [01:26<00:07,  1.88s/it]"
     ]
    },
    {
     "name": "stdout",
     "output_type": "stream",
     "text": [
      "New best model saved with test loss: 0.2508\n"
     ]
    },
    {
     "name": "stderr",
     "output_type": "stream",
     "text": [
      " 96%|█████████▌| 48/50 [01:29<00:03,  1.87s/it]"
     ]
    },
    {
     "name": "stdout",
     "output_type": "stream",
     "text": [
      "New best model saved with test loss: 0.2487\n"
     ]
    },
    {
     "name": "stderr",
     "output_type": "stream",
     "text": [
      " 98%|█████████▊| 49/50 [01:31<00:01,  1.87s/it]"
     ]
    },
    {
     "name": "stdout",
     "output_type": "stream",
     "text": [
      "New best model saved with test loss: 0.2462\n"
     ]
    },
    {
     "name": "stderr",
     "output_type": "stream",
     "text": [
      "100%|██████████| 50/50 [01:33<00:00,  1.87s/it]\n"
     ]
    },
    {
     "data": {
      "image/png": "[encoded data removed]",
      "text/plain": [
       "<Figure size 1000x500 with 1 Axes>"
      ]
     },
     "metadata": {},
     "output_type": "display_data"
    }
   ],
   "source": [
    "# Check for GPU availability\n",
    "device = torch.device('cuda' if torch.cuda.is_available() else 'cpu')\n",
    "print(f\"Using device: {device}\")\n",
    "\n",
    "# Define the Neural Network model\n",
    "class BinaryClassifier(nn.Module):\n",
    "    def __init__(self):\n",
    "        super(BinaryClassifier, self).__init__()\n",
    "\n",
    "        self.fc1 = nn.Linear(19, 256)\n",
    "        self.bn1 = nn.LayerNorm(256)  # Add Batch Normalization\n",
    "        self.fc2 = nn.Linear(256, 256)\n",
    "        self.bn2 = nn.LayerNorm(256)   # Add Batch Normalization\n",
    "        self.fc3 = nn.Linear(256, 256)\n",
    "        self.fc4 = nn.Linear(256, 256)\n",
    "        self.fc5 = nn.Linear(256, 128)\n",
    "        self.fc6 = nn.Linear(128, 1)    # Hidden layer (64 neurons) -> Output layer (1 neuron)\n",
    "        \n",
    "\n",
    "        # Sigmoid activation for binary classification\n",
    "        self.sigmoid = nn.Sigmoid()\n",
    "\n",
    "    def forward(self, x):\n",
    "        x = torch.nn.functional.gelu(self.bn1(self.fc1(x)))  # Apply batch normalization before activation\n",
    "        x = torch.nn.functional.gelu(self.bn2(self.fc2(x)))  # Apply batch normalization before activation\n",
    "        x = torch.nn.functional.gelu(self.fc3(x))  # Apply batch normalization before activation\n",
    "        x = torch.nn.functional.gelu(self.fc4(x))  # Apply batch normalization before activation\n",
    "        x = torch.nn.functional.gelu(self.fc5(x))  # Apply batch normalization before activation\n",
    "        x = self.fc6(x)               # Output layer (logits)\n",
    "        x = self.sigmoid(x)           # Sigmoid activation to get a value between 0 and 1 (binary classification)\n",
    "        return x\n",
    "\n",
    "# Create the model instance and move it to the GPU\n",
    "model = BinaryClassifier().to(device)\n",
    "\n",
    "# Define loss function and optimizer\n",
    "criterion = nn.BCELoss()  # Binary Cross-Entropy Loss for binary classification\n",
    "optimizer = optim.Adam(model.parameters(), lr=0.001, weight_decay=1e-5)\n",
    "# optimizer = optim.SGD(model.parameters(), lr=0.001, momentum=0.9, weight_decay=1e-5)\n",
    "\n",
    "\n",
    "# Split the dataset into training and test sets\n",
    "norms = np.linalg.norm(X, axis=1).reshape(-1, 1)  # Norms as feature\n",
    "X_train, X_test, y_train, y_test = train_test_split(np.concatenate([X, norms], axis=1), y, test_size=0.2, random_state=42)\n",
    "\n",
    "# Standardization (zero mean, unit variance)\n",
    "scaler = StandardScaler()  # Or you can use MinMaxScaler() for normalization\n",
    "X_train_scaled = scaler.fit_transform(X_train)\n",
    "X_test_scaled = scaler.transform(X_test)\n",
    "\n",
    "# Convert them into PyTorch tensors (ensure float32 for targets) and move to GPU\n",
    "X_train_tensor = torch.tensor(X_train_scaled, dtype=torch.float32).to(device)\n",
    "y_train_tensor = torch.tensor(y_train, dtype=torch.float32).view(-1, 1).to(device)  # Ensure float32 type for BCE loss\n",
    "\n",
    "X_test_tensor = torch.tensor(X_test_scaled, dtype=torch.float32).to(device)\n",
    "y_test_tensor = torch.tensor(y_test, dtype=torch.float32).view(-1, 1).to(device)\n",
    "\n",
    "# Create DataLoader for training and test datasets\n",
    "train_dataset = TensorDataset(X_train_tensor, y_train_tensor)\n",
    "test_dataset = TensorDataset(X_test_tensor, y_test_tensor)\n",
    "\n",
    "train_loader = DataLoader(train_dataset, batch_size=32, shuffle=True)\n",
    "test_loader = DataLoader(test_dataset, batch_size=32, shuffle=False)\n",
    "\n",
    "# Store loss values for plotting\n",
    "train_losses = []\n",
    "test_losses = []\n",
    "\n",
    "# Initialize a variable to track the best test loss\n",
    "best_test_loss = float('inf')  # Start with a very high value\n",
    "best_model_path = 'best_model_n18.pt'  # Path to save the best model\n",
    "\n",
    "# Training Loop\n",
    "epochs = 50\n",
    "for epoch in trange(epochs):\n",
    "    model.train()  # Set the model to training mode\n",
    "\n",
    "    running_loss = 0.0\n",
    "    all_preds_train = []  # List to store predictions for accuracy\n",
    "    all_labels_train = []  # List to store true labels for accuracy\n",
    "\n",
    "    for inputs, targets in train_loader:\n",
    "        optimizer.zero_grad()  # Zero the gradients\n",
    "\n",
    "        # Forward pass\n",
    "        outputs = model(inputs)\n",
    "\n",
    "        # Calculate loss\n",
    "        loss = criterion(outputs, targets)\n",
    "\n",
    "        # Backward pass and optimize\n",
    "        loss.backward()\n",
    "        optimizer.step()\n",
    "\n",
    "        # Track the loss for logging\n",
    "        running_loss += loss.item()\n",
    "\n",
    "        # Collect predictions and labels for accuracy calculation\n",
    "        all_preds_train.append((outputs > 0.5).cpu().numpy())  # Convert predictions to binary (0 or 1)\n",
    "        all_labels_train.append(targets.cpu().numpy())\n",
    "\n",
    "    # Flatten the lists to a 1D array for accuracy calculation\n",
    "    all_preds_train = np.concatenate(all_preds_train, axis=0)\n",
    "    all_labels_train = np.concatenate(all_labels_train, axis=0)\n",
    "\n",
    "    # Calculate accuracy using sklearn's accuracy_score\n",
    "    train_accuracy = accuracy_score(all_labels_train, all_preds_train)\n",
    "\n",
    "    # Test loop\n",
    "    model.eval()  # Set the model to evaluation mode\n",
    "    test_loss = 0.0\n",
    "    all_preds_test = []  # List to store predictions for accuracy\n",
    "    all_labels_test = []  # List to store true labels for accuracy\n",
    "\n",
    "    with torch.no_grad():  # No need to compute gradients for testing\n",
    "        for inputs, targets in test_loader:\n",
    "            outputs = model(inputs)\n",
    "            loss = criterion(outputs, targets)\n",
    "            test_loss += loss.item()\n",
    "\n",
    "            # Collect predictions and labels for accuracy calculation\n",
    "            all_preds_test.append((outputs > 0.5).cpu().numpy())  # Convert predictions to binary (0 or 1)\n",
    "            all_labels_test.append(targets.cpu().numpy())\n",
    "\n",
    "    # Flatten the lists to a 1D array for accuracy calculation\n",
    "    all_preds_test = np.concatenate(all_preds_test, axis=0)\n",
    "    all_labels_test = np.concatenate(all_labels_test, axis=0)\n",
    "\n",
    "    # Calculate accuracy using sklearn's accuracy_score\n",
    "    test_accuracy = accuracy_score(all_labels_test, all_preds_test)\n",
    "\n",
    "    # Store losses for plotting\n",
    "    train_losses.append(running_loss / len(train_loader))  # Average loss for training set\n",
    "    test_losses.append(test_loss / len(test_loader))  # Average loss for test set\n",
    "\n",
    "    # Check if the current test loss is the best we've seen\n",
    "    if test_loss / len(test_loader) < best_test_loss:\n",
    "        best_test_loss = test_loss / len(test_loader)\n",
    "        torch.save(model.state_dict(), best_model_path)  # Save the model parameters\n",
    "        print(f\"New best model saved with test loss: {best_test_loss:.4f}\")\n",
    "\n",
    "    if epoch % 10 == 0:\n",
    "        # Print loss and accuracy for this epoch\n",
    "        print(f\"Epoch [{epoch+1}/{epochs}], \"\n",
    "              f\"Train Loss: {running_loss/len(train_loader):.4f}, Train Accuracy: {train_accuracy*100:.2f}%, \"\n",
    "              f\"Test Loss: {test_loss/len(test_loader):.4f}, Test Accuracy: {test_accuracy*100:.2f}%\")\n",
    "\n",
    "# Plotting the Loss Curve\n",
    "plt.figure(figsize=(10, 5))\n",
    "plt.plot(range(1, epochs + 1), train_losses, label='Train Loss', color='blue', marker='o')\n",
    "plt.plot(range(1, epochs + 1), test_losses, label='Test Loss', color='red', marker='o')\n",
    "plt.xlabel('Epochs')\n",
    "plt.ylabel('Loss')\n",
    "plt.title('Training and Test Loss Curve')\n",
    "plt.legend()\n",
    "plt.grid(True)\n",
    "plt.show()\n"
   ]
  },
  {
   "cell_type": "code",
   "execution_count": null,
   "metadata": {},
   "outputs": [],
   "source": []
  }
 ],
 "metadata": {
  "kernelspec": {
   "display_name": "Python3.9 (fluid_simulator)",
   "language": "python",
   "name": "python39_fluid_simulator"
  },
  "language_info": {
   "codemirror_mode": {
    "name": "ipython",
    "version": 3
   },
   "file_extension": ".py",
   "mimetype": "text/x-python",
   "name": "python",
   "nbconvert_exporter": "python",
   "pygments_lexer": "ipython3",
   "version": "3.9.19"
  }
 },
 "nbformat": 4,
 "nbformat_minor": 2
}
